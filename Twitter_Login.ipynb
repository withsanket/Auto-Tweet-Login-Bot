{
 "cells": [
  {
   "cell_type": "code",
   "execution_count": 6,
   "id": "62798050",
   "metadata": {},
   "outputs": [],
   "source": [
    "from selenium import webdriver\n",
    "from selenium.webdriver.chrome.service import Service\n",
    "import time\n",
    "from selenium.webdriver.common.keys import Keys"
   ]
  },
  {
   "cell_type": "code",
   "execution_count": 7,
   "id": "32685b7d",
   "metadata": {},
   "outputs": [],
   "source": [
    "s = Service(r\"C:\\Users\\withs\\7 Selenium\\chromedriver-win64\\chromedriver-win64\\chromedriver.exe\")\n",
    "driver = webdriver.Chrome(service = s)\n",
    "driver.get(\"https://twitter.com/i/flow/login?input_flow_data=%7B%22requested_variant%22%3A%22eyJsYW5nIjoiZW4ifQ%3D%3D%22%7D\")\n",
    "time.sleep(3)\n",
    "\n",
    "user = driver.find_element(\"xpath\", \"\"\"/html/body/div/div/div/div[1]/div/div/div/div/div/div/div[2]/div[2]/div/div/div[2]/div[2]/div/div/div/div[5]/label/div/div[2]/div/input\"\"\")\n",
    "user.send_keys(\"withsanket10\")\n",
    "driver.find_element(\"xpath\", \"\"\"/html/body/div/div/div/div[1]/div/div/div/div/div/div/div[2]/div[2]/div/div/div[2]/div[2]/div/div/div/div[6]\"\"\").click()\n",
    "\n",
    "time.sleep(1)\n",
    "passd = driver.find_element(\"xpath\",\"\"\"/html/body/div/div/div/div[1]/div/div/div/div/div/div/div[2]/div[2]/div/div/div[2]/div[2]/div[1]/div/div/div[3]/div/label/div/div[2]/div[1]/input\"\"\" )\n",
    "passd.send_keys(\"mat_try_karo\")\n",
    "driver.find_element(\"xpath\", \"\"\"/html/body/div/div/div/div[1]/div/div/div/div/div/div/div[2]/div[2]/div/div/div[2]/div[2]/div[2]/div/div[1]/div/div/div/div\"\"\").click()\n"
   ]
  },
  {
   "cell_type": "code",
   "execution_count": null,
   "id": "08e7a9f0",
   "metadata": {},
   "outputs": [],
   "source": []
  }
 ],
 "metadata": {
  "kernelspec": {
   "display_name": "Python 3 (ipykernel)",
   "language": "python",
   "name": "python3"
  },
  "language_info": {
   "codemirror_mode": {
    "name": "ipython",
    "version": 3
   },
   "file_extension": ".py",
   "mimetype": "text/x-python",
   "name": "python",
   "nbconvert_exporter": "python",
   "pygments_lexer": "ipython3",
   "version": "3.11.5"
  }
 },
 "nbformat": 4,
 "nbformat_minor": 5
}
